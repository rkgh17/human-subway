{
 "cells": [
  {
   "cell_type": "code",
   "execution_count": 14,
   "id": "d28d72d9",
   "metadata": {},
   "outputs": [],
   "source": [
    "import psycopg2\n",
    "import os\n",
    "import sys\n",
    "import requests\n",
    "import datetime\n",
    "import time\n",
    "import re"
   ]
  },
  {
   "cell_type": "code",
   "execution_count": 15,
   "id": "ae1246d9",
   "metadata": {},
   "outputs": [],
   "source": [
    "# db연결\n",
    "conn = psycopg2.connect(host=\"ec2-23-21-207-93.compute-1.amazonaws.com\", \n",
    "                        dbname=\"d3oubpekvnbupv\", \n",
    "                        user=\"grxhirqndvyqvv\", \n",
    "                        password=\"6f1afaafe16d245c70666bdb8c831aa876e62b380a1544f5dc832c51f27cece6\", \n",
    "                        port=\"5432\")\n",
    "\n",
    "# 데이터 조작 객체 생성\n",
    "cur = conn.cursor()"
   ]
  },
  {
   "cell_type": "code",
   "execution_count": 23,
   "id": "2dd0b695",
   "metadata": {
    "scrolled": true
   },
   "outputs": [],
   "source": [
    "#데이터베이스 새로 만들기 (복합 키 세팅)\n",
    "# 테이블명 : nesdata\n",
    "# 컬럼명 : nesdate(뉴스작성일), newsname(뉴스타이틀), neslink(뉴스링크)\n",
    "# create table\n",
    "def db_create():\n",
    "    cur.execute(\"CREATE TABLE IF NOT EXISTS newsdata(newsdate VARCHAR(30) NOT NULL, newsname VARCHAR(100) NOT NULL, newslink VARCHAR(200), primary key(newsname, newslink));\")\n",
    "    conn.commit()\n",
    "\n",
    "db_create()"
   ]
  },
  {
   "cell_type": "code",
   "execution_count": 24,
   "id": "e1c1d9c1",
   "metadata": {},
   "outputs": [],
   "source": [
    "# db에 넣기 통합본 - 자동용\n",
    "def insertnews():\n",
    "\n",
    "    # db연결\n",
    "    conn = psycopg2.connect(host=\"ec2-23-21-207-93.compute-1.amazonaws.com\", \n",
    "                            dbname=\"d3oubpekvnbupv\", \n",
    "                            user=\"grxhirqndvyqvv\", \n",
    "                            password=\"6f1afaafe16d245c70666bdb8c831aa876e62b380a1544f5dc832c51f27cece6\", \n",
    "                            port=\"5432\")\n",
    "\n",
    "    # 데이터 조작 객체 생성\n",
    "    cur = conn.cursor()\n",
    "\n",
    "    # 네이버 검색api 키값\n",
    "    client_id = 'CmmN2OJp47c60h9IWTRs'\n",
    "    client_secret = 'mALduPDQEB'\n",
    "\n",
    "    #검색설정\n",
    "    search_word = '지하철 사고'\n",
    "    encode_type = 'json'\n",
    "    max_display = 30\n",
    "    sort = 'date'\n",
    "    start = 1\n",
    "\n",
    "    url = f\"https://openapi.naver.com/v1/search/news.{encode_type}?query={search_word}&display={str(int(max_display))}&start={str(int(start))}&sort={sort}\"\n",
    "\n",
    "    #헤더에 아이디와 키 정보 넣기\n",
    "    headers = {'X-Naver-Client-Id' : client_id,\n",
    "            'X-Naver-Client-Secret':client_secret\n",
    "            }\n",
    "\n",
    "    #HTTP요청 보내기\n",
    "    r = requests.get(url, headers=headers)\n",
    "    #요청 결과 보기 200 이면 정상적으로 요청 완료\n",
    "\n",
    "    # json형식으로 받기\n",
    "    result = r.json()\n",
    "\n",
    "    # key : items\n",
    "    result_items=result['items']\n",
    "\n",
    "    # db에 저장하기\n",
    "\n",
    "    for i in result_items:\n",
    "        \n",
    "        # 날짜 형식 변환\n",
    "        pDate = datetime.datetime.strptime(i['pubDate'][5:-6], '%d %b %Y %H:%M:%S')\n",
    "        pDate = pDate.strftime('%Y-%m-%d %H:%M:%S')\n",
    "        \n",
    "        # 뉴스제목 디코딩\n",
    "        title = clean_html(i['title'])\n",
    "        \n",
    "        link = i['link']\n",
    "        \n",
    "        insertdata = (pDate, title, link)\n",
    "        \n",
    "        # ON CONFLICT : 데이터가 중복되면 INSERT하지않음\n",
    "        cur.execute(\"INSERT into newsdata(newsdate, newsname, newslink) VALUES (%s, %s, %s) ON CONFLICT (newsname, newslink) DO NOTHING\", insertdata)\n",
    "\n",
    "    # db commit\n",
    "    conn.commit()   "
   ]
  },
  {
   "cell_type": "code",
   "execution_count": 25,
   "id": "3ae5a824",
   "metadata": {},
   "outputs": [],
   "source": [
    "insertnews()"
   ]
  },
  {
   "cell_type": "code",
   "execution_count": null,
   "id": "d0dc805e",
   "metadata": {},
   "outputs": [],
   "source": []
  },
  {
   "cell_type": "code",
   "execution_count": 26,
   "id": "dc2ad68b",
   "metadata": {
    "scrolled": true
   },
   "outputs": [
    {
     "name": "stdout",
     "output_type": "stream",
     "text": [
      "2022-11-18 22:15:00\n",
      "퇴근길 이어 출근길, 연이틀 멈춰선 신림선...시민만 불편\n",
      "https://n.news.naver.com/mnews/article/052/0001815578?sid=102\n",
      "\n",
      "2022-11-18 20:59:00\n",
      "퇴근길 이어 출근길, 연이틀 멈춰선 신림선...시민만 불편\n",
      "https://n.news.naver.com/mnews/article/052/0001815549?sid=102\n",
      "\n",
      "2022-11-18 20:58:00\n",
      "만석 또 만석, 출근길 ‘발동동’…“증차 먼저 해야”\n",
      "https://n.news.naver.com/mnews/article/032/0003187245?sid=102\n",
      "\n",
      "2022-11-18 20:36:00\n",
      "인천사랑병원, 사랑의 김장 나눔 동참 外\n",
      "http://www.newsmp.com/news/articleView.html?idxno=228164\n",
      "\n",
      "2022-11-18 20:36:00\n",
      "경기도 광역버스 오늘부터 ‘입석 금지’…이용객들은 ‘출·퇴근 걱정’\n",
      "http://www.kukinews.com/newsView/kuk202211180149\n",
      "\n",
      "2022-11-18 20:27:00\n",
      "안전사고 우려 입석 중단 첫날 표정‥버스 늘려달라\n",
      "https://n.news.naver.com/mnews/article/214/0001236190?sid=102\n",
      "\n",
      "2022-11-18 20:26:00\n",
      "어제 멈춘 신림선, 오늘 오전 또 운행중단…45분만에 재개\n",
      "http://www.polinews.co.kr/news/article.html?no=517626\n",
      "\n",
      "2022-11-18 20:17:00\n",
      "[여적] 경전철 신림선 고장\n",
      "https://n.news.naver.com/mnews/article/032/0003187231?sid=110\n",
      "\n",
      "2022-11-18 18:40:00\n",
      "퇴근길 이어 출근길, 연이틀 멈춰선 신림선...시민만 불편\n",
      "https://n.news.naver.com/mnews/article/052/0001815523?sid=102\n",
      "\n",
      "2022-11-18 18:28:00\n",
      "금천소방서, 2022년 재난대비 금천구 긴급구조 종합훈련\n",
      "http://fpn119.co.kr/187140\n"
     ]
    }
   ],
   "source": [
    "# select newdata\n",
    "cur.execute(f\"SELECT * FROM newsdata order by newsdate DESC limit 10\")\n",
    "result_all = cur.fetchall()\n",
    "\n",
    "newslist=\"\"\n",
    "for i in result_all:\n",
    "    for j in i:\n",
    "        newslist = newslist + j + \"\\n\"\n",
    "    newslist = newslist + \"\\n\"\n",
    "\n",
    "print(newslist[:-2])"
   ]
  },
  {
   "cell_type": "code",
   "execution_count": 3,
   "id": "95b2579a",
   "metadata": {},
   "outputs": [],
   "source": [
    "conn.commit()"
   ]
  }
 ],
 "metadata": {
  "kernelspec": {
   "display_name": "Python 3 (ipykernel)",
   "language": "python",
   "name": "python3"
  },
  "language_info": {
   "codemirror_mode": {
    "name": "ipython",
    "version": 3
   },
   "file_extension": ".py",
   "mimetype": "text/x-python",
   "name": "python",
   "nbconvert_exporter": "python",
   "pygments_lexer": "ipython3",
   "version": "3.10.7"
  }
 },
 "nbformat": 4,
 "nbformat_minor": 5
}
