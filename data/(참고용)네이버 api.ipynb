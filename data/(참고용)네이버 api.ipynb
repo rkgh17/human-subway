{
 "cells": [
  {
   "cell_type": "code",
   "execution_count": 1,
   "id": "1314827b",
   "metadata": {
    "scrolled": true
   },
   "outputs": [
    {
     "name": "stdout",
     "output_type": "stream",
     "text": [
      "검색어를 입력하세요: 1호선\n",
      "[2022-11-14 12:14:49.677911]Url Request Success\n",
      "[2022-11-14 12:14:49.849765]Url Request Success\n",
      "[2022-11-14 12:14:50.044427]Url Request Success\n",
      "[2022-11-14 12:14:50.282011]Url Request Success\n",
      "[2022-11-14 12:14:50.489166]Url Request Success\n",
      "[2022-11-14 12:14:50.705495]Url Request Success\n",
      "[2022-11-14 12:14:50.945638]Url Request Success\n",
      "[2022-11-14 12:14:51.130536]Url Request Success\n",
      "[2022-11-14 12:14:51.375346]Url Request Success\n",
      "[2022-11-14 12:14:51.580577]Url Request Success\n",
      "[2022-11-14 12:14:51.804382]Url Request Success\n",
      "HTTP Error 400: Bad Request\n",
      "[2022-11-14 12:14:51.910369] Error for URL : https://openapi.naver.com/v1/search/news.json?query=1%ED%98%B8%EC%84%A0&start=1011&display=100\n",
      "전체 검색 : 312074 건\n",
      "가져온 데이터 : 1010 건\n",
      "1호선_naver_news.json SAVED\n"
     ]
    }
   ],
   "source": [
    "# import os\n",
    "# import sys\n",
    "# import urllib.request\n",
    "# import datetime\n",
    "# import time\n",
    "# import json\n",
    "\n",
    "# client_id = 'CmmN2OJp47c60h9IWTRs'\n",
    "# client_secret = 'mALduPDQEB'\n",
    "\n",
    "# #[CODE 1]\n",
    "# def getRequestUrl(url):\n",
    "#     req = urllib.request.Request(url)\n",
    "#     req.add_header(\"X-Naver-Client-Id\", client_id)\n",
    "#     req.add_header(\"X-Naver-Client-Secret\", client_secret)\n",
    "    \n",
    "#     try:\n",
    "#         response = urllib.request.urlopen(req)\n",
    "#         if response.getcode() == 200:\n",
    "#             print(\"[%s]Url Request Success\" % datetime.datetime.now())\n",
    "#             return response.read().decode('utf-8')\n",
    "#     except Exception as e :\n",
    "#         print(e)\n",
    "#         print(\"[%s] Error for URL : %s\" % (datetime.datetime.now(), url))\n",
    "#         return None\n",
    "\n",
    "# #[CODE 2]\n",
    "# def getNaverSearch(node, srcText, start, display):\n",
    "#     base = \"https://openapi.naver.com/v1/search\"\n",
    "#     node = \"/%s.json\" % node\n",
    "#     parameters = \"?query=%s&start=%s&display=%s\" % (urllib.parse.quote(srcText), start, display)\n",
    "\n",
    "#     url = base + node + parameters\n",
    "#     responseDecode = getRequestUrl(url)     #[CODE 1]\n",
    "\n",
    "#     if(responseDecode == None):\n",
    "#         return None\n",
    "#     else:\n",
    "#         return json.loads(responseDecode)\n",
    "\n",
    "# #[CODE 3]\n",
    "# def getPostData(post, jsonResult, cnt):\n",
    "#     title = post['title']\n",
    "#     description = post['description']\n",
    "#     org_link = post['originallink']\n",
    "#     link = post['link']\n",
    "\n",
    "#     pDate = datetime.datetime.strptime(post['pubDate'], '%a, %d %b %Y %H:%M:%S +0900')\n",
    "#     pDate = pDate.strftime('%Y-%m-%d %H:%M:%S')\n",
    "\n",
    "#     jsonResult.append({'cnt':cnt, 'title':title, 'description':description,\n",
    "#                        'org_link':org_link, 'link':org_link, 'pDate':pDate})\n",
    "#     return\n",
    "\n",
    "# #[CODE 0]\n",
    "# def main():\n",
    "#     node = 'news'  #크롤링한 대상\n",
    "#     srcText = \"지하철\"\n",
    "#     cnt = 0\n",
    "#     jsonResult = []\n",
    "    \n",
    "#     jsonResponse = getNaverSearch(node, srcText, 1, 10)  #[CODE 2]\n",
    "#     total = jsonResponse['total']\n",
    "    \n",
    "#     while((jsonResponse != None) and (jsonResponse['display'] != 0)):\n",
    "#         for post in jsonResponse['items']:\n",
    "#             cnt+= 1\n",
    "#             getPostData(post, jsonResult, cnt)   #[CODE 3]\n",
    "            \n",
    "#         start = jsonResponse['start'] + jsonResponse['display']\n",
    "#         jsonResponse = getNaverSearch(node, srcText, start, 100)   #[CODE 2]\n",
    "        \n",
    "#     print('전체 검색 : %d 건' %total)\n",
    "        \n",
    "#     with open('%s_naver_%s.json' % (srcText, node), 'w', encoding='utf8') as outfile:\n",
    "#         jsonFile = json.dumps(jsonResult, indent=4, sort_keys = True, ensure_ascii = False)\n",
    "            \n",
    "#         outfile.write(jsonFile)\n",
    "            \n",
    "#     print(\"가져온 데이터 : %d 건\" %(cnt))\n",
    "#     print('%s_naver_%s.json SAVED' % (srcText, node))\n",
    "\n",
    "# if __name__ == '__main__':\n",
    "#     main()      "
   ]
  },
  {
   "cell_type": "code",
   "execution_count": null,
   "id": "ba44ed67",
   "metadata": {},
   "outputs": [],
   "source": []
  },
  {
   "cell_type": "code",
   "execution_count": null,
   "id": "bfca4b5b",
   "metadata": {},
   "outputs": [],
   "source": []
  },
  {
   "cell_type": "code",
   "execution_count": 1,
   "id": "5805ac90",
   "metadata": {},
   "outputs": [],
   "source": [
    "import os\n",
    "import sys\n",
    "import requests\n",
    "import datetime\n",
    "import time"
   ]
  },
  {
   "cell_type": "code",
   "execution_count": 2,
   "id": "f7eb95f1",
   "metadata": {},
   "outputs": [],
   "source": [
    "# api 키값\n",
    "client_id = 'CmmN2OJp47c60h9IWTRs'\n",
    "client_secret = 'mALduPDQEB'"
   ]
  },
  {
   "cell_type": "code",
   "execution_count": 3,
   "id": "4084190b",
   "metadata": {},
   "outputs": [
    {
     "name": "stdout",
     "output_type": "stream",
     "text": [
      "<Response [200]>\n"
     ]
    }
   ],
   "source": [
    "search_word = '지하철 사고'\n",
    "encode_type = 'json'\n",
    "max_display = 30\n",
    "sort = 'date'\n",
    "start = 1\n",
    "\n",
    "url = f\"https://openapi.naver.com/v1/search/news.{encode_type}?query={search_word}&display={str(int(max_display))}&start={str(int(start))}&sort={sort}\"\n",
    "\n",
    "#헤더에 아이디와 키 정보 넣기\n",
    "headers = {'X-Naver-Client-Id' : client_id,\n",
    "           'X-Naver-Client-Secret':client_secret\n",
    "           }\n",
    "\n",
    "#HTTP요청 보내기\n",
    "r = requests.get(url, headers=headers)\n",
    "#요청 결과 보기 200 이면 정상적으로 요청 완료\n",
    "print(r)"
   ]
  },
  {
   "cell_type": "code",
   "execution_count": 4,
   "id": "ab0de78e",
   "metadata": {},
   "outputs": [],
   "source": [
    "result = r.json()"
   ]
  },
  {
   "cell_type": "code",
   "execution_count": 5,
   "id": "416e72c2",
   "metadata": {
    "scrolled": true
   },
   "outputs": [
    {
     "data": {
      "text/plain": [
       "{'lastBuildDate': 'Fri, 18 Nov 2022 21:11:36 +0900',\n",
       " 'total': 169392,\n",
       " 'start': 1,\n",
       " 'display': 30,\n",
       " 'items': [{'title': '퇴근길 이어 출근길, 연이틀 멈춰선 신림선...시민만 불편',\n",
       "   'originallink': 'https://www.ytn.co.kr/_ln/0103_202211182059558267',\n",
       "   'link': 'https://n.news.naver.com/mnews/article/052/0001815549?sid=102',\n",
       "   'description': '그게 없으면 <b>지하철</b> 탈 이유가 없다고 보거든요.] 앞서 신림선은 개통 한 달 만인 지난 6월에도 열차가 멈춰 서면서 노선 전체 운행이 영향을 받았습니다. 전체 노선이 하나로 이어진 순환형 구조라 한 곳에서 <b>사고</b>가 나면... ',\n",
       "   'pubDate': 'Fri, 18 Nov 2022 20:59:00 +0900'},\n",
       "  {'title': '만석 또 만석, 출근길 ‘발동동’…“증차 먼저해야”',\n",
       "   'originallink': 'https://www.khan.co.kr/local/Gyeonggi/article/202211182055025',\n",
       "   'link': 'https://n.news.naver.com/mnews/article/032/0003187245?sid=102',\n",
       "   'description': '몰려서 <b>지하철 사고</b> 날까 겁이 난다” 등의 게시글들이 올라왔다. 시민들은 입석 승차 금지 시행 전 보완책 부족을 지적했다. 이날부터 입석 승차를 중단하는 경기지역 광역버스는 KD운송그룹 계열 14개 업체로, 112개... ',\n",
       "   'pubDate': 'Fri, 18 Nov 2022 20:58:00 +0900'},\n",
       "  {'title': '경기도 광역버스 오늘부터 ‘입석 금지’…이용객들은 ‘출·퇴근 걱정’',\n",
       "   'originallink': 'http://www.kukinews.com/newsView/kuk202211180149',\n",
       "   'link': 'http://www.kukinews.com/newsView/kuk202211180149',\n",
       "   'description': '압사 <b>사고</b>로 공공 안전에 대한 사회 경각심이 높아짐에 따라 단행된 조치다. 입석 거부 제도가 도입된... 버스는 직행이라 금방 가는데, 입석 금지로 인해 줄이 너무 길어 결국 <b>지하철</b>로 퇴근을 했다”라면서 “<b>지하철</b>과... ',\n",
       "   'pubDate': 'Fri, 18 Nov 2022 20:36:00 +0900'},\n",
       "  {'title': '인천사랑병원, 사랑의 김장 나눔 동참 外',\n",
       "   'originallink': 'http://www.newsmp.com/news/articleView.html?idxno=228164',\n",
       "   'link': 'http://www.newsmp.com/news/articleView.html?idxno=228164',\n",
       "   'description': '이에 앞선 14일에는 송도소방서 주관으로 <b>지하철</b> 역사에서 화재가 발생해 다수사상자가 발생한 상황에 대응하는 훈련에 참가했다. 8일에는 국립중앙의료원 등 의료기관과 공동으로 체육관 폭발<b>사고</b>에 대비한 모의... ',\n",
       "   'pubDate': 'Fri, 18 Nov 2022 20:36:00 +0900'},\n",
       "  {'title': '&apos;안전<b>사고</b> 우려&apos; 입석 중단 첫날 표정‥&quot;버스 늘려달라&quot;',\n",
       "   'originallink': 'https://imnews.imbc.com/replay/2022/nwdesk/article/6428442_35744.html',\n",
       "   'link': 'https://n.news.naver.com/mnews/article/214/0001236190?sid=102',\n",
       "   'description': '10.29 참사 이후 안전<b>사고</b>를 우려한 조치인데, 시민들의 불편도 해결해야 할 과제로 떠올랐습니다. 첫날... &lt;몇 번 보내셨어요?&gt; 지금‥ 석 대?&quot; 지친 승객들이 대체 교통수단으로 몰리면서 주변 <b>지하철</b>역도 더... ',\n",
       "   'pubDate': 'Fri, 18 Nov 2022 20:27:00 +0900'},\n",
       "  {'title': '어제 멈춘 신림선, 오늘 오전 또 운행중단…45분만에 재개',\n",
       "   'originallink': 'http://www.polinews.co.kr/news/article.html?no=517626',\n",
       "   'link': 'http://www.polinews.co.kr/news/article.html?no=517626',\n",
       "   'description': '8㎞ 길이의 경전철 노선으로, <b>지하철</b> 9호선(샛강역)·1호선(대방역)·7호선(보라매역)·2호선(신림역)으로... 서울시는 전날 <b>사고</b> 12분 만에 문자메시지로 운행 중단을 알리는 등 복구작업이 끝날 때까지 모두 네 차례에... ',\n",
       "   'pubDate': 'Fri, 18 Nov 2022 20:26:00 +0900'},\n",
       "  {'title': '[여적] 경전철 신림선 고장',\n",
       "   'originallink': 'https://www.khan.co.kr/opinion/yeojeok/article/202211182013005',\n",
       "   'link': 'https://n.news.naver.com/mnews/article/032/0003187231?sid=110',\n",
       "   'description': '경전철은 중전철인 기존 <b>지하철</b>에 대비되는 ‘가벼운 전기 철도’를 말한다. <b>지하철</b>과 버스의 단점을... 지난 6월 전동차가 갑자기 멈춰 승객들이 1시간가량 갇힌 데 이어 개통 6개월 만에 3번째 <b>사고</b>가 난 것이다.... ',\n",
       "   'pubDate': 'Fri, 18 Nov 2022 20:17:00 +0900'},\n",
       "  {'title': '퇴근길 이어 출근길, 연이틀 멈춰선 신림선...시민만 불편',\n",
       "   'originallink': 'https://www.ytn.co.kr/_ln/0103_202211181840473953',\n",
       "   'link': 'https://n.news.naver.com/mnews/article/052/0001815523?sid=102',\n",
       "   'description': '그게 없으면 <b>지하철</b> 탈 이유가 없다고 보거든요.] 앞서 신림선은 개통 한 달 만인 지난 6월에도 열차가 멈춰 서면서 노선 전체 운행이 영향을 받았습니다. 전체 노선이 하나로 이어진 순환형 구조라 한 곳에서 <b>사고</b>가 나면... ',\n",
       "   'pubDate': 'Fri, 18 Nov 2022 18:40:00 +0900'},\n",
       "  {'title': '금천소방서, 2022년 재난대비 금천구 긴급구조 종합훈련',\n",
       "   'originallink': 'http://fpn119.co.kr/187140',\n",
       "   'link': 'http://fpn119.co.kr/187140',\n",
       "   'description': '긴급구조 종합훈련은 대형 재난<b>사고</b> 발생 시 관계자에 의한 초기대응 능력 향상과 긴급구조기관과... 이번 훈련은 금천구 가산동 일대에서 <b>지하철</b> 1호선(경부선) 장애로 인한 출동로 부재에 따른 우회 출동로 선정... ',\n",
       "   'pubDate': 'Fri, 18 Nov 2022 18:28:00 +0900'},\n",
       "  {'title': '신림선, 퇴근길에 이어 출근길까지 운행 중단···시민 “불편·불안”호소',\n",
       "   'originallink': 'https://www.donga.com/news/article/all/20221118/116550065/1',\n",
       "   'link': 'https://n.news.naver.com/mnews/article/020/0003463141?sid=102',\n",
       "   'description': '박 씨는 “어제 <b>사고</b> 소식을 듣고 아침에 10분 정도 일찍 나온 덕분에 버스를 타도 겨우 지각은 면할 것 같다... 총 7.8km로 <b>지하철</b> 1·2·7·9호선과 이어진 환승역 4곳을 포함해 정거장 11곳을 연결한다. 기관사 없이 무인으로... ',\n",
       "   'pubDate': 'Fri, 18 Nov 2022 17:51:00 +0900'},\n",
       "  {'title': '신림선 고장에 운행중단…전날엔 퇴근, 오늘은 출근길 (종합)',\n",
       "   'originallink': 'https://www.seoul.co.kr/news/newsView.php?id=20221118500170&wlog_tag3=naver',\n",
       "   'link': 'https://n.news.naver.com/mnews/article/081/0003318288?sid=102',\n",
       "   'description': '● 신림선, 지난 6월에도 개통 다음달 <b>사고</b> 사과문은 신림선 도시철도 각 역사에도 붙여졌다. 5월 말 개통한 신림선은 여의도 샛강역과 관악산(서울대)역을 연결하는 총 7.8㎞ 길이의 경전철 노선이다. <b>지하철</b> 9호선... ',\n",
       "   'pubDate': 'Fri, 18 Nov 2022 17:42:00 +0900'},\n",
       "  {'title': '&quot;재난·위기관리 목적은 모두가 함께 행복한 세상&quot;',\n",
       "   'originallink': 'https://www.cctoday.co.kr/news/articleView.html?idxno=2170577',\n",
       "   'link': 'https://www.cctoday.co.kr/news/articleView.html?idxno=2170577',\n",
       "   'description': '이 <b>사고</b>로 304명이 사망했다. 세월호 참사는 안전불감증이 만연한 우리 사회에 경종을 울렸다. 안전과 재난에... 서울 출장을 가면 출근 시간에 서울<b>지하철</b> 1호선을 타게 된다. 너무나 많은 사람 사이에 끼어 타는데... ',\n",
       "   'pubDate': 'Fri, 18 Nov 2022 17:32:00 +0900'},\n",
       "  {'title': 'MZ 세대의 사회문화 답사기: 세월호부터 10.29 참사까지',\n",
       "   'originallink': 'http://www.ddanzi.com/756673169',\n",
       "   'link': 'http://www.ddanzi.com/756673169',\n",
       "   'description': '큰 <b>사고</b>가 났다. 사망자 130. 실수로 0을 하나 더 붙인 거 아닌가. 다른 기사를 찾아봐도 숫자는 변하지 않았다.... “아마 사복 경찰일 거예요.” 행진을 무사히 마치고 <b>지하철</b>을 타고 학교로 돌아갔다. C양은 한결 평온해진... ',\n",
       "   'pubDate': 'Fri, 18 Nov 2022 17:28:00 +0900'},\n",
       "  {'title': '“인파 밀집 대비 2층 버스 도입&quot;...국가안전시스템 뿌리부터 바꾼다',\n",
       "   'originallink': 'https://www.joongang.co.kr/article/25118757',\n",
       "   'link': 'https://n.news.naver.com/mnews/article/025/0003239556?sid=102',\n",
       "   'description': '행사장이나 <b>지하철</b>·버스 등 교통수단에 인파가 몰릴 경우 <b>사고</b> 방지 대책을 논의했다. 이 자리에서 국토교통부는 2층 전기버스 도입을 추진하기로 했다. 출·퇴근 시간대 수도권 광역버스 혼잡도를 완화하기 위해서다.... ',\n",
       "   'pubDate': 'Fri, 18 Nov 2022 16:52:00 +0900'},\n",
       "  {'title': '[노컷한컷]수능 치러지는 동안…참사 후폭풍에 코인시장은 위기',\n",
       "   'originallink': 'https://www.nocutnews.co.kr/news/5851673',\n",
       "   'link': 'https://n.news.naver.com/mnews/article/079/0003708698?sid=102',\n",
       "   'description': '춘천=박종민 기자 \\u200bCBS 뉴스부활 35주년 기념 디지털 사진전 14일 오전 서울 <b>지하철</b> 경복궁역... 이태원 <b>사고</b> 특별수사본부(특수본)에 피의자 신분으로 조사받기 위해 출석하고 있다. 박 구청장은 핼러윈 기간 안전<b>사고</b>... ',\n",
       "   'pubDate': 'Fri, 18 Nov 2022 16:50:00 +0900'},\n",
       "  {'title': '[병원계 소식] 11월 18일',\n",
       "   'originallink': 'http://www.doctorstimes.com/news/articleView.html?idxno=220847',\n",
       "   'link': 'http://www.doctorstimes.com/news/articleView.html?idxno=220847',\n",
       "   'description': '이에 앞선 14일에는 송도소방서 주관으로 <b>지하철</b> 역사에서 화재가 발생해 다수사상자가 발생한 상황에 대응하는 훈련에 참가했다. 8일에는 국립중앙의료원 등 의료기관과 공동으로 체육관 폭발<b>사고</b>에 대비한 모의... ',\n",
       "   'pubDate': 'Fri, 18 Nov 2022 16:44:00 +0900'},\n",
       "  {'title': '&quot;실제 상황처럼&quot;…긴박감 속 <b>지하철</b> 화재<b>사고</b> 대피훈련',\n",
       "   'originallink': 'http://www.newsis.com/view/?id=NISX20221118_0002092008&cID=10809&pID=10800',\n",
       "   'link': 'https://n.news.naver.com/mnews/article/003/0011545200?sid=102',\n",
       "   'description': '연기에 질식하는 승객들이 속출하는 사이 <b>사고</b> 8분 만에 도시철도공사 초기대응팀이 도착, 승강장 방화문을... <b>지하철</b> 승강장은 다수 시민들이 이용하는 일상적인 공간인 탓에 화재 상황과 같은 재난에 취약한 실정이다.... ',\n",
       "   'pubDate': 'Fri, 18 Nov 2022 16:28:00 +0900'},\n",
       "  {'title': '어제는 퇴근길, 오늘은 출근길…신림선 또 운행중단(종합2보)',\n",
       "   'originallink': 'https://www.yna.co.kr/view/AKR20221118027052004?input=1195m',\n",
       "   'link': 'https://n.news.naver.com/mnews/article/001/0013586026?sid=102',\n",
       "   'description': '서울시는 전날 <b>사고</b> 12분 만에 문자메시지로 운행 중단을 알리는 등 복구작업이 끝날 때까지 모두 네 차례에... <b>지하철</b> 9호선(샛강역)·1호선(대방역)·7호선(보라매역)·2호선(신림역)으로 환승할 수 있다. 신림선은 개통 한... ',\n",
       "   'pubDate': 'Fri, 18 Nov 2022 16:22:00 +0900'},\n",
       "  {'title': '“안전 우선! 줄을 서시오” 참사 후 달라진 대한민국',\n",
       "   'originallink': 'http://www.kukinews.com/newsView/kuk202211180108',\n",
       "   'link': 'http://www.kukinews.com/newsView/kuk202211180108',\n",
       "   'description': '출퇴근길 광역버스의 입석승차가 금지되고, 붐비는 <b>지하철</b> 역사에는 출퇴근 시간대에 안전인력이 추가... 안전<b>사고</b> 예방을 위해 일시 휴점에 들어간 것이다. 2022 지스타가 열린 벡스코 전시관에 입장하기 위한... ',\n",
       "   'pubDate': 'Fri, 18 Nov 2022 15:52:00 +0900'},\n",
       "  {'title': '경기도 입석버스 금지…최소 연말까진 불편 겪을 듯',\n",
       "   'originallink': 'https://www.hankyung.com/life/article/202211189093i',\n",
       "   'link': 'https://n.news.naver.com/mnews/article/015/0004776611?sid=102',\n",
       "   'description': '다만 입석 중단 사실이 이번주 초부터 알려지면서 시민들이 이날 자가용과 <b>지하철</b> 등 대체 수단을 이용했고... 그러다 이후 입석 승객이 탄 버스의 <b>사고</b>가 발생하고, 요금 논란 등이 제기돼자 버스회사들이 속속 입석... ',\n",
       "   'pubDate': 'Fri, 18 Nov 2022 15:26:00 +0900'},\n",
       "  {'title': '30일 총파업 앞둔 서울교통공사 노조 &quot;감원 철회해야&quot;',\n",
       "   'originallink': 'http://www.newsis.com/view/?id=NISX20221118_0002091917&cID=10201&pID=10200',\n",
       "   'link': 'https://n.news.naver.com/mnews/article/003/0011544967?sid=102',\n",
       "   'description': '서울교통공사 노조는 이날 국회 정문 앞에서 기자회견을 열고 &quot;신당역 <b>사고</b> 이후 노동자뿐 아니라 시민들의 생명도 위험해질 수 있는 안전 사각지대인 <b>지하철</b>에 안전인력을 늘려야 한다&quot;며 &quot;그럼에도 서울시는... ',\n",
       "   'pubDate': 'Fri, 18 Nov 2022 15:16:00 +0900'},\n",
       "  {'title': '경기도 광역버스 입석금지 첫날…승객들 “취지 좋지만 증차를”',\n",
       "   'originallink': 'https://www.khan.co.kr/economy/economy-general/article/202211181501001',\n",
       "   'link': 'https://n.news.naver.com/mnews/article/032/0003187183?sid=102',\n",
       "   'description': '몰려서 <b>지하철 사고</b> 날까 겁이 난다” 등의 게시글들이 올라왔다. 시민들은 입석 금지 시행 전 보완책 부족을 지적했다. 정책의 실효성에 의문을 품는 이들도 있었다. 이날부터 입석을 중단하는 경기지역 광역버스는... ',\n",
       "   'pubDate': 'Fri, 18 Nov 2022 15:02:00 +0900'},\n",
       "  {'title': '심폐소생술을 배웠습니다',\n",
       "   'originallink': 'https://www.korea.kr/news/reporterView.do?newsId=148908379&call_from=naver_news',\n",
       "   'link': 'https://www.korea.kr/news/reporterView.do?newsId=148908379&call_from=naver_news',\n",
       "   'description': '국내에서도 <b>지하철</b>역과 같은 다중이용시설에 가면 행인들의 눈에 띄는 곳에 빨간색의 자동심장충격기가 비치되어 있다. 이태원 <b>사고</b> 이후 심폐소생술 교육에 관심을 갖고 문의하는 분들이 많아졌다.... ',\n",
       "   'pubDate': 'Fri, 18 Nov 2022 14:51:00 +0900'},\n",
       "  {'title': '[18일 오늘의사건<b>사고</b>] 광주 광산구 비아정류장 인근서 SUV - 보행자 충돌 사...',\n",
       "   'originallink': 'https://idsn.co.kr/news/view/1065589733200083',\n",
       "   'link': 'https://idsn.co.kr/news/view/1065589733200083',\n",
       "   'description': '18일광주 광산구 비아정류장 인근에서 소형SUV가 보행자를 들이받는 <b>사고</b>가 발생한 가운데\\xa0\\xa0전남 신안군, 서울 <b>지하철</b> 신림선, 전북전주시, 인천계양구,\\xa0인천 중구\\xa0등에서 지진· <b>사고</b> ·화재 등이 발생했다.... ',\n",
       "   'pubDate': 'Fri, 18 Nov 2022 14:46:00 +0900'},\n",
       "  {'title': '가천대 길병원 재난의료지원팀 재난현장 구급대응 훈련 실시',\n",
       "   'originallink': 'https://www.viva100.com/main/view.php?key=20221118010005585',\n",
       "   'link': 'https://www.viva100.com/main/view.php?key=20221118010005585',\n",
       "   'description': '이에 앞선 이달 14일에는 송도소방서 주관으로 <b>지하철</b> 역사에서 화재가 발생해 다수사상자가 발생한 상황에 대응하는 훈련에 참가했다. 8일에는 국립중앙의료원 등 의료기관과 공동으로 체육관 폭발<b>사고</b>에 대비한 모의... ',\n",
       "   'pubDate': 'Fri, 18 Nov 2022 14:14:00 +0900'},\n",
       "  {'title': '&apos;이태원 영상 350개&apos; 분석한 WP가 주목한 시간과 장소 [이태원 압사 참사]',\n",
       "   'originallink': 'http://www.ohmynews.com/NWS_Web/View/at_pg.aspx?CNTN_CD=A0002881613&CMPT_CD=P0010&utm_source=naver&utm_medium=newsearch&utm_campaign=naver_news',\n",
       "   'link': 'https://n.news.naver.com/mnews/article/047/0002373283?sid=102',\n",
       "   'description': '압사 <b>사고</b>의 사상자를 넘어섰다&quot;라고 전했다. &quot;이태원 지역 상인들, 참사 며칠 전부터 <b>지하철</b> 우회 요청&quot; ▲ \\xa016일 오전 서울 용산구 이태원 참사 현장에서 국화꽃을 든 시민들이 희생자들을 추모하며 기도하고 있다.... ',\n",
       "   'pubDate': 'Fri, 18 Nov 2022 14:11:00 +0900'},\n",
       "  {'title': '서울교통공사노조, 인력감축 중단 촉구... 30일 총파업 경고',\n",
       "   'originallink': 'https://idsn.co.kr/news/view/1065588590023198',\n",
       "   'link': 'https://idsn.co.kr/news/view/1065588590023198',\n",
       "   'description': '노조는 “신당역 <b>사고</b> 이후 노동자뿐 아니라 시민들의 생명도 위험해질 수 있는 <b>지하철</b>에 안전인력을 늘려야 한다”며 “그러나 오세훈 서울시장은 한쪽으로는 안전 인력의 임시변통 투입을 지시하고 한쪽에선 대규모... ',\n",
       "   'pubDate': 'Fri, 18 Nov 2022 13:54:00 +0900'},\n",
       "  {'title': '가천대 길병원 재난의료지원팀, 재난현장 구급대응 훈련 실시',\n",
       "   'originallink': 'http://www.shinailbo.co.kr/news/articleView.html?idxno=1625127',\n",
       "   'link': 'http://www.shinailbo.co.kr/news/articleView.html?idxno=1625127',\n",
       "   'description': '이에 앞선 14일에는 송도소방서 주관으로 <b>지하철</b> 역사에서 화재가 발생해 다수사상자가 발생한 상황에 대응하는 훈련에 참가했다. 8일에는 국립중앙의료원 등 의료기관과 공동으로 체육관 폭발<b>사고</b>에 대비한 모의 대응... ',\n",
       "   'pubDate': 'Fri, 18 Nov 2022 13:42:00 +0900'},\n",
       "  {'title': '‘남은 좌석’ 전광판 보며 발동동… “퇴근이 더 걱정”',\n",
       "   'originallink': 'http://www.munhwa.com/news/view.html?no=2022111801071227042001',\n",
       "   'link': 'https://n.news.naver.com/mnews/article/021/0002542138?sid=102',\n",
       "   'description': '■ 경기광역버스 입석 금지 첫날 평소보다 30분 일찍 줄 이어져 70명 태우는 2층 버스도 ‘휙’ “<b>사고</b>후... 정류장으로 <b>지하철</b> 같은 대체 대중교통 수단이 없어 아침이면 늘 승객들이 몰린다. 이날은 경기 광역버스 입석... ',\n",
       "   'pubDate': 'Fri, 18 Nov 2022 13:13:00 +0900'},\n",
       "  {'title': '뒤숭숭한 서울시 … 10여곳 압수수색',\n",
       "   'originallink': 'http://www.naeil.com/news_view/?id_art=442270',\n",
       "   'link': 'http://www.naeil.com/news_view/?id_art=442270',\n",
       "   'description': '걸 <b>사고</b> 이후에 알게 됐다고 밝혔다. 통상적인 축제 관련 교통대책 협조 내용으로 알려졌지만 압수수색 결과... 서울교통공사가 담당하는 <b>지하철</b> 무정차 관련 내용도 모두 들여다본 것으로 알려졌다. 관련 규정과 내용... ',\n",
       "   'pubDate': 'Fri, 18 Nov 2022 12:36:00 +0900'}]}"
      ]
     },
     "execution_count": 5,
     "metadata": {},
     "output_type": "execute_result"
    }
   ],
   "source": [
    "result"
   ]
  },
  {
   "cell_type": "code",
   "execution_count": 6,
   "id": "3bfe9296",
   "metadata": {},
   "outputs": [],
   "source": [
    "result_items=result['items']"
   ]
  },
  {
   "cell_type": "code",
   "execution_count": 7,
   "id": "0b9c8256",
   "metadata": {
    "scrolled": false
   },
   "outputs": [
    {
     "data": {
      "text/plain": [
       "[{'title': '퇴근길 이어 출근길, 연이틀 멈춰선 신림선...시민만 불편',\n",
       "  'originallink': 'https://www.ytn.co.kr/_ln/0103_202211182059558267',\n",
       "  'link': 'https://n.news.naver.com/mnews/article/052/0001815549?sid=102',\n",
       "  'description': '그게 없으면 <b>지하철</b> 탈 이유가 없다고 보거든요.] 앞서 신림선은 개통 한 달 만인 지난 6월에도 열차가 멈춰 서면서 노선 전체 운행이 영향을 받았습니다. 전체 노선이 하나로 이어진 순환형 구조라 한 곳에서 <b>사고</b>가 나면... ',\n",
       "  'pubDate': 'Fri, 18 Nov 2022 20:59:00 +0900'},\n",
       " {'title': '만석 또 만석, 출근길 ‘발동동’…“증차 먼저해야”',\n",
       "  'originallink': 'https://www.khan.co.kr/local/Gyeonggi/article/202211182055025',\n",
       "  'link': 'https://n.news.naver.com/mnews/article/032/0003187245?sid=102',\n",
       "  'description': '몰려서 <b>지하철 사고</b> 날까 겁이 난다” 등의 게시글들이 올라왔다. 시민들은 입석 승차 금지 시행 전 보완책 부족을 지적했다. 이날부터 입석 승차를 중단하는 경기지역 광역버스는 KD운송그룹 계열 14개 업체로, 112개... ',\n",
       "  'pubDate': 'Fri, 18 Nov 2022 20:58:00 +0900'},\n",
       " {'title': '경기도 광역버스 오늘부터 ‘입석 금지’…이용객들은 ‘출·퇴근 걱정’',\n",
       "  'originallink': 'http://www.kukinews.com/newsView/kuk202211180149',\n",
       "  'link': 'http://www.kukinews.com/newsView/kuk202211180149',\n",
       "  'description': '압사 <b>사고</b>로 공공 안전에 대한 사회 경각심이 높아짐에 따라 단행된 조치다. 입석 거부 제도가 도입된... 버스는 직행이라 금방 가는데, 입석 금지로 인해 줄이 너무 길어 결국 <b>지하철</b>로 퇴근을 했다”라면서 “<b>지하철</b>과... ',\n",
       "  'pubDate': 'Fri, 18 Nov 2022 20:36:00 +0900'},\n",
       " {'title': '인천사랑병원, 사랑의 김장 나눔 동참 外',\n",
       "  'originallink': 'http://www.newsmp.com/news/articleView.html?idxno=228164',\n",
       "  'link': 'http://www.newsmp.com/news/articleView.html?idxno=228164',\n",
       "  'description': '이에 앞선 14일에는 송도소방서 주관으로 <b>지하철</b> 역사에서 화재가 발생해 다수사상자가 발생한 상황에 대응하는 훈련에 참가했다. 8일에는 국립중앙의료원 등 의료기관과 공동으로 체육관 폭발<b>사고</b>에 대비한 모의... ',\n",
       "  'pubDate': 'Fri, 18 Nov 2022 20:36:00 +0900'},\n",
       " {'title': '&apos;안전<b>사고</b> 우려&apos; 입석 중단 첫날 표정‥&quot;버스 늘려달라&quot;',\n",
       "  'originallink': 'https://imnews.imbc.com/replay/2022/nwdesk/article/6428442_35744.html',\n",
       "  'link': 'https://n.news.naver.com/mnews/article/214/0001236190?sid=102',\n",
       "  'description': '10.29 참사 이후 안전<b>사고</b>를 우려한 조치인데, 시민들의 불편도 해결해야 할 과제로 떠올랐습니다. 첫날... &lt;몇 번 보내셨어요?&gt; 지금‥ 석 대?&quot; 지친 승객들이 대체 교통수단으로 몰리면서 주변 <b>지하철</b>역도 더... ',\n",
       "  'pubDate': 'Fri, 18 Nov 2022 20:27:00 +0900'},\n",
       " {'title': '어제 멈춘 신림선, 오늘 오전 또 운행중단…45분만에 재개',\n",
       "  'originallink': 'http://www.polinews.co.kr/news/article.html?no=517626',\n",
       "  'link': 'http://www.polinews.co.kr/news/article.html?no=517626',\n",
       "  'description': '8㎞ 길이의 경전철 노선으로, <b>지하철</b> 9호선(샛강역)·1호선(대방역)·7호선(보라매역)·2호선(신림역)으로... 서울시는 전날 <b>사고</b> 12분 만에 문자메시지로 운행 중단을 알리는 등 복구작업이 끝날 때까지 모두 네 차례에... ',\n",
       "  'pubDate': 'Fri, 18 Nov 2022 20:26:00 +0900'},\n",
       " {'title': '[여적] 경전철 신림선 고장',\n",
       "  'originallink': 'https://www.khan.co.kr/opinion/yeojeok/article/202211182013005',\n",
       "  'link': 'https://n.news.naver.com/mnews/article/032/0003187231?sid=110',\n",
       "  'description': '경전철은 중전철인 기존 <b>지하철</b>에 대비되는 ‘가벼운 전기 철도’를 말한다. <b>지하철</b>과 버스의 단점을... 지난 6월 전동차가 갑자기 멈춰 승객들이 1시간가량 갇힌 데 이어 개통 6개월 만에 3번째 <b>사고</b>가 난 것이다.... ',\n",
       "  'pubDate': 'Fri, 18 Nov 2022 20:17:00 +0900'},\n",
       " {'title': '퇴근길 이어 출근길, 연이틀 멈춰선 신림선...시민만 불편',\n",
       "  'originallink': 'https://www.ytn.co.kr/_ln/0103_202211181840473953',\n",
       "  'link': 'https://n.news.naver.com/mnews/article/052/0001815523?sid=102',\n",
       "  'description': '그게 없으면 <b>지하철</b> 탈 이유가 없다고 보거든요.] 앞서 신림선은 개통 한 달 만인 지난 6월에도 열차가 멈춰 서면서 노선 전체 운행이 영향을 받았습니다. 전체 노선이 하나로 이어진 순환형 구조라 한 곳에서 <b>사고</b>가 나면... ',\n",
       "  'pubDate': 'Fri, 18 Nov 2022 18:40:00 +0900'},\n",
       " {'title': '금천소방서, 2022년 재난대비 금천구 긴급구조 종합훈련',\n",
       "  'originallink': 'http://fpn119.co.kr/187140',\n",
       "  'link': 'http://fpn119.co.kr/187140',\n",
       "  'description': '긴급구조 종합훈련은 대형 재난<b>사고</b> 발생 시 관계자에 의한 초기대응 능력 향상과 긴급구조기관과... 이번 훈련은 금천구 가산동 일대에서 <b>지하철</b> 1호선(경부선) 장애로 인한 출동로 부재에 따른 우회 출동로 선정... ',\n",
       "  'pubDate': 'Fri, 18 Nov 2022 18:28:00 +0900'},\n",
       " {'title': '신림선, 퇴근길에 이어 출근길까지 운행 중단···시민 “불편·불안”호소',\n",
       "  'originallink': 'https://www.donga.com/news/article/all/20221118/116550065/1',\n",
       "  'link': 'https://n.news.naver.com/mnews/article/020/0003463141?sid=102',\n",
       "  'description': '박 씨는 “어제 <b>사고</b> 소식을 듣고 아침에 10분 정도 일찍 나온 덕분에 버스를 타도 겨우 지각은 면할 것 같다... 총 7.8km로 <b>지하철</b> 1·2·7·9호선과 이어진 환승역 4곳을 포함해 정거장 11곳을 연결한다. 기관사 없이 무인으로... ',\n",
       "  'pubDate': 'Fri, 18 Nov 2022 17:51:00 +0900'},\n",
       " {'title': '신림선 고장에 운행중단…전날엔 퇴근, 오늘은 출근길 (종합)',\n",
       "  'originallink': 'https://www.seoul.co.kr/news/newsView.php?id=20221118500170&wlog_tag3=naver',\n",
       "  'link': 'https://n.news.naver.com/mnews/article/081/0003318288?sid=102',\n",
       "  'description': '● 신림선, 지난 6월에도 개통 다음달 <b>사고</b> 사과문은 신림선 도시철도 각 역사에도 붙여졌다. 5월 말 개통한 신림선은 여의도 샛강역과 관악산(서울대)역을 연결하는 총 7.8㎞ 길이의 경전철 노선이다. <b>지하철</b> 9호선... ',\n",
       "  'pubDate': 'Fri, 18 Nov 2022 17:42:00 +0900'},\n",
       " {'title': '&quot;재난·위기관리 목적은 모두가 함께 행복한 세상&quot;',\n",
       "  'originallink': 'https://www.cctoday.co.kr/news/articleView.html?idxno=2170577',\n",
       "  'link': 'https://www.cctoday.co.kr/news/articleView.html?idxno=2170577',\n",
       "  'description': '이 <b>사고</b>로 304명이 사망했다. 세월호 참사는 안전불감증이 만연한 우리 사회에 경종을 울렸다. 안전과 재난에... 서울 출장을 가면 출근 시간에 서울<b>지하철</b> 1호선을 타게 된다. 너무나 많은 사람 사이에 끼어 타는데... ',\n",
       "  'pubDate': 'Fri, 18 Nov 2022 17:32:00 +0900'},\n",
       " {'title': 'MZ 세대의 사회문화 답사기: 세월호부터 10.29 참사까지',\n",
       "  'originallink': 'http://www.ddanzi.com/756673169',\n",
       "  'link': 'http://www.ddanzi.com/756673169',\n",
       "  'description': '큰 <b>사고</b>가 났다. 사망자 130. 실수로 0을 하나 더 붙인 거 아닌가. 다른 기사를 찾아봐도 숫자는 변하지 않았다.... “아마 사복 경찰일 거예요.” 행진을 무사히 마치고 <b>지하철</b>을 타고 학교로 돌아갔다. C양은 한결 평온해진... ',\n",
       "  'pubDate': 'Fri, 18 Nov 2022 17:28:00 +0900'},\n",
       " {'title': '“인파 밀집 대비 2층 버스 도입&quot;...국가안전시스템 뿌리부터 바꾼다',\n",
       "  'originallink': 'https://www.joongang.co.kr/article/25118757',\n",
       "  'link': 'https://n.news.naver.com/mnews/article/025/0003239556?sid=102',\n",
       "  'description': '행사장이나 <b>지하철</b>·버스 등 교통수단에 인파가 몰릴 경우 <b>사고</b> 방지 대책을 논의했다. 이 자리에서 국토교통부는 2층 전기버스 도입을 추진하기로 했다. 출·퇴근 시간대 수도권 광역버스 혼잡도를 완화하기 위해서다.... ',\n",
       "  'pubDate': 'Fri, 18 Nov 2022 16:52:00 +0900'},\n",
       " {'title': '[노컷한컷]수능 치러지는 동안…참사 후폭풍에 코인시장은 위기',\n",
       "  'originallink': 'https://www.nocutnews.co.kr/news/5851673',\n",
       "  'link': 'https://n.news.naver.com/mnews/article/079/0003708698?sid=102',\n",
       "  'description': '춘천=박종민 기자 \\u200bCBS 뉴스부활 35주년 기념 디지털 사진전 14일 오전 서울 <b>지하철</b> 경복궁역... 이태원 <b>사고</b> 특별수사본부(특수본)에 피의자 신분으로 조사받기 위해 출석하고 있다. 박 구청장은 핼러윈 기간 안전<b>사고</b>... ',\n",
       "  'pubDate': 'Fri, 18 Nov 2022 16:50:00 +0900'},\n",
       " {'title': '[병원계 소식] 11월 18일',\n",
       "  'originallink': 'http://www.doctorstimes.com/news/articleView.html?idxno=220847',\n",
       "  'link': 'http://www.doctorstimes.com/news/articleView.html?idxno=220847',\n",
       "  'description': '이에 앞선 14일에는 송도소방서 주관으로 <b>지하철</b> 역사에서 화재가 발생해 다수사상자가 발생한 상황에 대응하는 훈련에 참가했다. 8일에는 국립중앙의료원 등 의료기관과 공동으로 체육관 폭발<b>사고</b>에 대비한 모의... ',\n",
       "  'pubDate': 'Fri, 18 Nov 2022 16:44:00 +0900'},\n",
       " {'title': '&quot;실제 상황처럼&quot;…긴박감 속 <b>지하철</b> 화재<b>사고</b> 대피훈련',\n",
       "  'originallink': 'http://www.newsis.com/view/?id=NISX20221118_0002092008&cID=10809&pID=10800',\n",
       "  'link': 'https://n.news.naver.com/mnews/article/003/0011545200?sid=102',\n",
       "  'description': '연기에 질식하는 승객들이 속출하는 사이 <b>사고</b> 8분 만에 도시철도공사 초기대응팀이 도착, 승강장 방화문을... <b>지하철</b> 승강장은 다수 시민들이 이용하는 일상적인 공간인 탓에 화재 상황과 같은 재난에 취약한 실정이다.... ',\n",
       "  'pubDate': 'Fri, 18 Nov 2022 16:28:00 +0900'},\n",
       " {'title': '어제는 퇴근길, 오늘은 출근길…신림선 또 운행중단(종합2보)',\n",
       "  'originallink': 'https://www.yna.co.kr/view/AKR20221118027052004?input=1195m',\n",
       "  'link': 'https://n.news.naver.com/mnews/article/001/0013586026?sid=102',\n",
       "  'description': '서울시는 전날 <b>사고</b> 12분 만에 문자메시지로 운행 중단을 알리는 등 복구작업이 끝날 때까지 모두 네 차례에... <b>지하철</b> 9호선(샛강역)·1호선(대방역)·7호선(보라매역)·2호선(신림역)으로 환승할 수 있다. 신림선은 개통 한... ',\n",
       "  'pubDate': 'Fri, 18 Nov 2022 16:22:00 +0900'},\n",
       " {'title': '“안전 우선! 줄을 서시오” 참사 후 달라진 대한민국',\n",
       "  'originallink': 'http://www.kukinews.com/newsView/kuk202211180108',\n",
       "  'link': 'http://www.kukinews.com/newsView/kuk202211180108',\n",
       "  'description': '출퇴근길 광역버스의 입석승차가 금지되고, 붐비는 <b>지하철</b> 역사에는 출퇴근 시간대에 안전인력이 추가... 안전<b>사고</b> 예방을 위해 일시 휴점에 들어간 것이다. 2022 지스타가 열린 벡스코 전시관에 입장하기 위한... ',\n",
       "  'pubDate': 'Fri, 18 Nov 2022 15:52:00 +0900'},\n",
       " {'title': '경기도 입석버스 금지…최소 연말까진 불편 겪을 듯',\n",
       "  'originallink': 'https://www.hankyung.com/life/article/202211189093i',\n",
       "  'link': 'https://n.news.naver.com/mnews/article/015/0004776611?sid=102',\n",
       "  'description': '다만 입석 중단 사실이 이번주 초부터 알려지면서 시민들이 이날 자가용과 <b>지하철</b> 등 대체 수단을 이용했고... 그러다 이후 입석 승객이 탄 버스의 <b>사고</b>가 발생하고, 요금 논란 등이 제기돼자 버스회사들이 속속 입석... ',\n",
       "  'pubDate': 'Fri, 18 Nov 2022 15:26:00 +0900'},\n",
       " {'title': '30일 총파업 앞둔 서울교통공사 노조 &quot;감원 철회해야&quot;',\n",
       "  'originallink': 'http://www.newsis.com/view/?id=NISX20221118_0002091917&cID=10201&pID=10200',\n",
       "  'link': 'https://n.news.naver.com/mnews/article/003/0011544967?sid=102',\n",
       "  'description': '서울교통공사 노조는 이날 국회 정문 앞에서 기자회견을 열고 &quot;신당역 <b>사고</b> 이후 노동자뿐 아니라 시민들의 생명도 위험해질 수 있는 안전 사각지대인 <b>지하철</b>에 안전인력을 늘려야 한다&quot;며 &quot;그럼에도 서울시는... ',\n",
       "  'pubDate': 'Fri, 18 Nov 2022 15:16:00 +0900'},\n",
       " {'title': '경기도 광역버스 입석금지 첫날…승객들 “취지 좋지만 증차를”',\n",
       "  'originallink': 'https://www.khan.co.kr/economy/economy-general/article/202211181501001',\n",
       "  'link': 'https://n.news.naver.com/mnews/article/032/0003187183?sid=102',\n",
       "  'description': '몰려서 <b>지하철 사고</b> 날까 겁이 난다” 등의 게시글들이 올라왔다. 시민들은 입석 금지 시행 전 보완책 부족을 지적했다. 정책의 실효성에 의문을 품는 이들도 있었다. 이날부터 입석을 중단하는 경기지역 광역버스는... ',\n",
       "  'pubDate': 'Fri, 18 Nov 2022 15:02:00 +0900'},\n",
       " {'title': '심폐소생술을 배웠습니다',\n",
       "  'originallink': 'https://www.korea.kr/news/reporterView.do?newsId=148908379&call_from=naver_news',\n",
       "  'link': 'https://www.korea.kr/news/reporterView.do?newsId=148908379&call_from=naver_news',\n",
       "  'description': '국내에서도 <b>지하철</b>역과 같은 다중이용시설에 가면 행인들의 눈에 띄는 곳에 빨간색의 자동심장충격기가 비치되어 있다. 이태원 <b>사고</b> 이후 심폐소생술 교육에 관심을 갖고 문의하는 분들이 많아졌다.... ',\n",
       "  'pubDate': 'Fri, 18 Nov 2022 14:51:00 +0900'},\n",
       " {'title': '[18일 오늘의사건<b>사고</b>] 광주 광산구 비아정류장 인근서 SUV - 보행자 충돌 사...',\n",
       "  'originallink': 'https://idsn.co.kr/news/view/1065589733200083',\n",
       "  'link': 'https://idsn.co.kr/news/view/1065589733200083',\n",
       "  'description': '18일광주 광산구 비아정류장 인근에서 소형SUV가 보행자를 들이받는 <b>사고</b>가 발생한 가운데\\xa0\\xa0전남 신안군, 서울 <b>지하철</b> 신림선, 전북전주시, 인천계양구,\\xa0인천 중구\\xa0등에서 지진· <b>사고</b> ·화재 등이 발생했다.... ',\n",
       "  'pubDate': 'Fri, 18 Nov 2022 14:46:00 +0900'},\n",
       " {'title': '가천대 길병원 재난의료지원팀 재난현장 구급대응 훈련 실시',\n",
       "  'originallink': 'https://www.viva100.com/main/view.php?key=20221118010005585',\n",
       "  'link': 'https://www.viva100.com/main/view.php?key=20221118010005585',\n",
       "  'description': '이에 앞선 이달 14일에는 송도소방서 주관으로 <b>지하철</b> 역사에서 화재가 발생해 다수사상자가 발생한 상황에 대응하는 훈련에 참가했다. 8일에는 국립중앙의료원 등 의료기관과 공동으로 체육관 폭발<b>사고</b>에 대비한 모의... ',\n",
       "  'pubDate': 'Fri, 18 Nov 2022 14:14:00 +0900'},\n",
       " {'title': '&apos;이태원 영상 350개&apos; 분석한 WP가 주목한 시간과 장소 [이태원 압사 참사]',\n",
       "  'originallink': 'http://www.ohmynews.com/NWS_Web/View/at_pg.aspx?CNTN_CD=A0002881613&CMPT_CD=P0010&utm_source=naver&utm_medium=newsearch&utm_campaign=naver_news',\n",
       "  'link': 'https://n.news.naver.com/mnews/article/047/0002373283?sid=102',\n",
       "  'description': '압사 <b>사고</b>의 사상자를 넘어섰다&quot;라고 전했다. &quot;이태원 지역 상인들, 참사 며칠 전부터 <b>지하철</b> 우회 요청&quot; ▲ \\xa016일 오전 서울 용산구 이태원 참사 현장에서 국화꽃을 든 시민들이 희생자들을 추모하며 기도하고 있다.... ',\n",
       "  'pubDate': 'Fri, 18 Nov 2022 14:11:00 +0900'},\n",
       " {'title': '서울교통공사노조, 인력감축 중단 촉구... 30일 총파업 경고',\n",
       "  'originallink': 'https://idsn.co.kr/news/view/1065588590023198',\n",
       "  'link': 'https://idsn.co.kr/news/view/1065588590023198',\n",
       "  'description': '노조는 “신당역 <b>사고</b> 이후 노동자뿐 아니라 시민들의 생명도 위험해질 수 있는 <b>지하철</b>에 안전인력을 늘려야 한다”며 “그러나 오세훈 서울시장은 한쪽으로는 안전 인력의 임시변통 투입을 지시하고 한쪽에선 대규모... ',\n",
       "  'pubDate': 'Fri, 18 Nov 2022 13:54:00 +0900'},\n",
       " {'title': '가천대 길병원 재난의료지원팀, 재난현장 구급대응 훈련 실시',\n",
       "  'originallink': 'http://www.shinailbo.co.kr/news/articleView.html?idxno=1625127',\n",
       "  'link': 'http://www.shinailbo.co.kr/news/articleView.html?idxno=1625127',\n",
       "  'description': '이에 앞선 14일에는 송도소방서 주관으로 <b>지하철</b> 역사에서 화재가 발생해 다수사상자가 발생한 상황에 대응하는 훈련에 참가했다. 8일에는 국립중앙의료원 등 의료기관과 공동으로 체육관 폭발<b>사고</b>에 대비한 모의 대응... ',\n",
       "  'pubDate': 'Fri, 18 Nov 2022 13:42:00 +0900'},\n",
       " {'title': '‘남은 좌석’ 전광판 보며 발동동… “퇴근이 더 걱정”',\n",
       "  'originallink': 'http://www.munhwa.com/news/view.html?no=2022111801071227042001',\n",
       "  'link': 'https://n.news.naver.com/mnews/article/021/0002542138?sid=102',\n",
       "  'description': '■ 경기광역버스 입석 금지 첫날 평소보다 30분 일찍 줄 이어져 70명 태우는 2층 버스도 ‘휙’ “<b>사고</b>후... 정류장으로 <b>지하철</b> 같은 대체 대중교통 수단이 없어 아침이면 늘 승객들이 몰린다. 이날은 경기 광역버스 입석... ',\n",
       "  'pubDate': 'Fri, 18 Nov 2022 13:13:00 +0900'},\n",
       " {'title': '뒤숭숭한 서울시 … 10여곳 압수수색',\n",
       "  'originallink': 'http://www.naeil.com/news_view/?id_art=442270',\n",
       "  'link': 'http://www.naeil.com/news_view/?id_art=442270',\n",
       "  'description': '걸 <b>사고</b> 이후에 알게 됐다고 밝혔다. 통상적인 축제 관련 교통대책 협조 내용으로 알려졌지만 압수수색 결과... 서울교통공사가 담당하는 <b>지하철</b> 무정차 관련 내용도 모두 들여다본 것으로 알려졌다. 관련 규정과 내용... ',\n",
       "  'pubDate': 'Fri, 18 Nov 2022 12:36:00 +0900'}]"
      ]
     },
     "execution_count": 7,
     "metadata": {},
     "output_type": "execute_result"
    }
   ],
   "source": [
    "result_items"
   ]
  },
  {
   "cell_type": "code",
   "execution_count": null,
   "id": "9bc91637",
   "metadata": {},
   "outputs": [],
   "source": []
  },
  {
   "cell_type": "code",
   "execution_count": 8,
   "id": "41a994d0",
   "metadata": {
    "scrolled": true
   },
   "outputs": [
    {
     "data": {
      "text/plain": [
       "list"
      ]
     },
     "execution_count": 8,
     "metadata": {},
     "output_type": "execute_result"
    }
   ],
   "source": [
    "type(result_items)"
   ]
  },
  {
   "cell_type": "code",
   "execution_count": 9,
   "id": "ee5728b1",
   "metadata": {},
   "outputs": [
    {
     "data": {
      "text/plain": [
       "30"
      ]
     },
     "execution_count": 9,
     "metadata": {},
     "output_type": "execute_result"
    }
   ],
   "source": [
    "len(result_items)"
   ]
  },
  {
   "cell_type": "code",
   "execution_count": 10,
   "id": "5d2954a5",
   "metadata": {
    "scrolled": true
   },
   "outputs": [
    {
     "data": {
      "text/plain": [
       "{'title': '퇴근길 이어 출근길, 연이틀 멈춰선 신림선...시민만 불편',\n",
       " 'originallink': 'https://www.ytn.co.kr/_ln/0103_202211182059558267',\n",
       " 'link': 'https://n.news.naver.com/mnews/article/052/0001815549?sid=102',\n",
       " 'description': '그게 없으면 <b>지하철</b> 탈 이유가 없다고 보거든요.] 앞서 신림선은 개통 한 달 만인 지난 6월에도 열차가 멈춰 서면서 노선 전체 운행이 영향을 받았습니다. 전체 노선이 하나로 이어진 순환형 구조라 한 곳에서 <b>사고</b>가 나면... ',\n",
       " 'pubDate': 'Fri, 18 Nov 2022 20:59:00 +0900'}"
      ]
     },
     "execution_count": 10,
     "metadata": {},
     "output_type": "execute_result"
    }
   ],
   "source": [
    "result_items[0]"
   ]
  },
  {
   "cell_type": "code",
   "execution_count": 11,
   "id": "0f720a10",
   "metadata": {
    "scrolled": true
   },
   "outputs": [
    {
     "data": {
      "text/plain": [
       "dict"
      ]
     },
     "execution_count": 11,
     "metadata": {},
     "output_type": "execute_result"
    }
   ],
   "source": [
    "type(result_items[0])"
   ]
  },
  {
   "cell_type": "code",
   "execution_count": 12,
   "id": "0f4cd10a",
   "metadata": {},
   "outputs": [
    {
     "data": {
      "text/plain": [
       "'Fri, 18 Nov 2022 20:59:00 +0900'"
      ]
     },
     "execution_count": 12,
     "metadata": {},
     "output_type": "execute_result"
    }
   ],
   "source": [
    "result_items[0]['pubDate']"
   ]
  },
  {
   "cell_type": "code",
   "execution_count": 13,
   "id": "5b6e2dcd",
   "metadata": {},
   "outputs": [],
   "source": [
    "pDate = result_items[0]['pubDate']\n",
    "pDate = datetime.datetime.strptime(pDate, '%a, %d %b %Y %H:%M:%S +0900')\n",
    "pDate = pDate.strftime('%Y-%m-%d %H:%M:%S')"
   ]
  },
  {
   "cell_type": "code",
   "execution_count": 14,
   "id": "2c369057",
   "metadata": {},
   "outputs": [
    {
     "data": {
      "text/plain": [
       "'2022-11-18 20:59:00'"
      ]
     },
     "execution_count": 14,
     "metadata": {},
     "output_type": "execute_result"
    }
   ],
   "source": [
    "pDate"
   ]
  },
  {
   "cell_type": "code",
   "execution_count": 60,
   "id": "3ac75a47",
   "metadata": {},
   "outputs": [
    {
     "data": {
      "text/plain": [
       "'18 Nov 2022 16:52:00'"
      ]
     },
     "execution_count": 60,
     "metadata": {},
     "output_type": "execute_result"
    }
   ],
   "source": [
    "result_items[0]['pubDate'][5:-6]"
   ]
  },
  {
   "cell_type": "code",
   "execution_count": 15,
   "id": "4eb631fd",
   "metadata": {},
   "outputs": [],
   "source": [
    "# pDate = result_items[0]['pubDate'][5:-6]\n",
    "pDate = datetime.datetime.strptime(result_items[0]['pubDate'][5:-6], '%d %b %Y %H:%M:%S')\n",
    "pDate = pDate.strftime('%Y-%m-%d %H:%M:%S')"
   ]
  },
  {
   "cell_type": "code",
   "execution_count": 16,
   "id": "e3979381",
   "metadata": {},
   "outputs": [
    {
     "data": {
      "text/plain": [
       "'2022-11-18 20:59:00'"
      ]
     },
     "execution_count": 16,
     "metadata": {},
     "output_type": "execute_result"
    }
   ],
   "source": [
    "pDate"
   ]
  },
  {
   "cell_type": "code",
   "execution_count": 21,
   "id": "da7f7f9c",
   "metadata": {},
   "outputs": [
    {
     "data": {
      "text/plain": [
       "19"
      ]
     },
     "execution_count": 21,
     "metadata": {},
     "output_type": "execute_result"
    }
   ],
   "source": [
    "len(pDate)"
   ]
  },
  {
   "cell_type": "code",
   "execution_count": 70,
   "id": "b8e402c5",
   "metadata": {},
   "outputs": [],
   "source": []
  },
  {
   "cell_type": "code",
   "execution_count": 17,
   "id": "abab8c07",
   "metadata": {},
   "outputs": [
    {
     "data": {
      "text/plain": [
       "'퇴근길 이어 출근길, 연이틀 멈춰선 신림선...시민만 불편'"
      ]
     },
     "execution_count": 17,
     "metadata": {},
     "output_type": "execute_result"
    }
   ],
   "source": [
    "result_items[0]['title']"
   ]
  },
  {
   "cell_type": "code",
   "execution_count": null,
   "id": "d1caf6c8",
   "metadata": {},
   "outputs": [],
   "source": []
  },
  {
   "cell_type": "code",
   "execution_count": 62,
   "id": "3c9da14d",
   "metadata": {},
   "outputs": [
    {
     "data": {
      "text/plain": [
       "'https://n.news.naver.com/mnews/article/025/0003239556?sid=102'"
      ]
     },
     "execution_count": 62,
     "metadata": {},
     "output_type": "execute_result"
    }
   ],
   "source": [
    "result_items[0]['link']"
   ]
  },
  {
   "cell_type": "code",
   "execution_count": null,
   "id": "161e53bf",
   "metadata": {},
   "outputs": [],
   "source": []
  },
  {
   "cell_type": "code",
   "execution_count": null,
   "id": "7b35ad12",
   "metadata": {},
   "outputs": [],
   "source": []
  },
  {
   "cell_type": "code",
   "execution_count": null,
   "id": "5913aef7",
   "metadata": {},
   "outputs": [],
   "source": []
  },
  {
   "cell_type": "code",
   "execution_count": 19,
   "id": "80e1bdd9",
   "metadata": {},
   "outputs": [],
   "source": [
    "import re\n",
    "def clean_html(x):\n",
    "  x = re.sub(\"\\&\\w*\\;\",\"\",x)\n",
    "  x = re.sub(\"<.*?>\",\"\",x)\n",
    "  return x\n",
    "\n",
    "news = \"\"\n",
    "for i in result_items:\n",
    "    pDate = datetime.datetime.strptime(i['pubDate'][5:-6], '%d %b %Y %H:%M:%S')\n",
    "    pDate = pDate.strftime('%Y-%m-%d %H:%M:%S')\n",
    "    title = clean_html(i['title'])\n",
    "    link = i['link']\n",
    "    news = news + pDate + '\\n' + title + '\\n' + link + '\\n\\n'"
   ]
  },
  {
   "cell_type": "code",
   "execution_count": 20,
   "id": "2de632e5",
   "metadata": {
    "scrolled": true
   },
   "outputs": [
    {
     "name": "stdout",
     "output_type": "stream",
     "text": [
      "2022-11-18 20:59:00\n",
      "퇴근길 이어 출근길, 연이틀 멈춰선 신림선...시민만 불편\n",
      "https://n.news.naver.com/mnews/article/052/0001815549?sid=102\n",
      "\n",
      "2022-11-18 20:58:00\n",
      "만석 또 만석, 출근길 ‘발동동’…“증차 먼저해야”\n",
      "https://n.news.naver.com/mnews/article/032/0003187245?sid=102\n",
      "\n",
      "2022-11-18 20:36:00\n",
      "경기도 광역버스 오늘부터 ‘입석 금지’…이용객들은 ‘출·퇴근 걱정’\n",
      "http://www.kukinews.com/newsView/kuk202211180149\n",
      "\n",
      "2022-11-18 20:36:00\n",
      "인천사랑병원, 사랑의 김장 나눔 동참 外\n",
      "http://www.newsmp.com/news/articleView.html?idxno=228164\n",
      "\n",
      "2022-11-18 20:27:00\n",
      "안전사고 우려 입석 중단 첫날 표정‥버스 늘려달라\n",
      "https://n.news.naver.com/mnews/article/214/0001236190?sid=102\n",
      "\n",
      "2022-11-18 20:26:00\n",
      "어제 멈춘 신림선, 오늘 오전 또 운행중단…45분만에 재개\n",
      "http://www.polinews.co.kr/news/article.html?no=517626\n",
      "\n",
      "2022-11-18 20:17:00\n",
      "[여적] 경전철 신림선 고장\n",
      "https://n.news.naver.com/mnews/article/032/0003187231?sid=110\n",
      "\n",
      "2022-11-18 18:40:00\n",
      "퇴근길 이어 출근길, 연이틀 멈춰선 신림선...시민만 불편\n",
      "https://n.news.naver.com/mnews/article/052/0001815523?sid=102\n",
      "\n",
      "2022-11-18 18:28:00\n",
      "금천소방서, 2022년 재난대비 금천구 긴급구조 종합훈련\n",
      "http://fpn119.co.kr/187140\n",
      "\n",
      "2022-11-18 17:51:00\n",
      "신림선, 퇴근길에 이어 출근길까지 운행 중단···시민 “불편·불안”호소\n",
      "https://n.news.naver.com/mnews/article/020/0003463141?sid=102\n",
      "\n",
      "2022-11-18 17:42:00\n",
      "신림선 고장에 운행중단…전날엔 퇴근, 오늘은 출근길 (종합)\n",
      "https://n.news.naver.com/mnews/article/081/0003318288?sid=102\n",
      "\n",
      "2022-11-18 17:32:00\n",
      "재난·위기관리 목적은 모두가 함께 행복한 세상\n",
      "https://www.cctoday.co.kr/news/articleView.html?idxno=2170577\n",
      "\n",
      "2022-11-18 17:28:00\n",
      "MZ 세대의 사회문화 답사기: 세월호부터 10.29 참사까지\n",
      "http://www.ddanzi.com/756673169\n",
      "\n",
      "2022-11-18 16:52:00\n",
      "“인파 밀집 대비 2층 버스 도입...국가안전시스템 뿌리부터 바꾼다\n",
      "https://n.news.naver.com/mnews/article/025/0003239556?sid=102\n",
      "\n",
      "2022-11-18 16:50:00\n",
      "[노컷한컷]수능 치러지는 동안…참사 후폭풍에 코인시장은 위기\n",
      "https://n.news.naver.com/mnews/article/079/0003708698?sid=102\n",
      "\n",
      "2022-11-18 16:44:00\n",
      "[병원계 소식] 11월 18일\n",
      "http://www.doctorstimes.com/news/articleView.html?idxno=220847\n",
      "\n",
      "2022-11-18 16:28:00\n",
      "실제 상황처럼…긴박감 속 지하철 화재사고 대피훈련\n",
      "https://n.news.naver.com/mnews/article/003/0011545200?sid=102\n",
      "\n",
      "2022-11-18 16:22:00\n",
      "어제는 퇴근길, 오늘은 출근길…신림선 또 운행중단(종합2보)\n",
      "https://n.news.naver.com/mnews/article/001/0013586026?sid=102\n",
      "\n",
      "2022-11-18 15:52:00\n",
      "“안전 우선! 줄을 서시오” 참사 후 달라진 대한민국\n",
      "http://www.kukinews.com/newsView/kuk202211180108\n",
      "\n",
      "2022-11-18 15:26:00\n",
      "경기도 입석버스 금지…최소 연말까진 불편 겪을 듯\n",
      "https://n.news.naver.com/mnews/article/015/0004776611?sid=102\n",
      "\n",
      "2022-11-18 15:16:00\n",
      "30일 총파업 앞둔 서울교통공사 노조 감원 철회해야\n",
      "https://n.news.naver.com/mnews/article/003/0011544967?sid=102\n",
      "\n",
      "2022-11-18 15:02:00\n",
      "경기도 광역버스 입석금지 첫날…승객들 “취지 좋지만 증차를”\n",
      "https://n.news.naver.com/mnews/article/032/0003187183?sid=102\n",
      "\n",
      "2022-11-18 14:51:00\n",
      "심폐소생술을 배웠습니다\n",
      "https://www.korea.kr/news/reporterView.do?newsId=148908379&call_from=naver_news\n",
      "\n",
      "2022-11-18 14:46:00\n",
      "[18일 오늘의사건사고] 광주 광산구 비아정류장 인근서 SUV - 보행자 충돌 사...\n",
      "https://idsn.co.kr/news/view/1065589733200083\n",
      "\n",
      "2022-11-18 14:14:00\n",
      "가천대 길병원 재난의료지원팀 재난현장 구급대응 훈련 실시\n",
      "https://www.viva100.com/main/view.php?key=20221118010005585\n",
      "\n",
      "2022-11-18 14:11:00\n",
      "이태원 영상 350개 분석한 WP가 주목한 시간과 장소 [이태원 압사 참사]\n",
      "https://n.news.naver.com/mnews/article/047/0002373283?sid=102\n",
      "\n",
      "2022-11-18 13:54:00\n",
      "서울교통공사노조, 인력감축 중단 촉구... 30일 총파업 경고\n",
      "https://idsn.co.kr/news/view/1065588590023198\n",
      "\n",
      "2022-11-18 13:42:00\n",
      "가천대 길병원 재난의료지원팀, 재난현장 구급대응 훈련 실시\n",
      "http://www.shinailbo.co.kr/news/articleView.html?idxno=1625127\n",
      "\n",
      "2022-11-18 13:13:00\n",
      "‘남은 좌석’ 전광판 보며 발동동… “퇴근이 더 걱정”\n",
      "https://n.news.naver.com/mnews/article/021/0002542138?sid=102\n",
      "\n",
      "2022-11-18 12:36:00\n",
      "뒤숭숭한 서울시 … 10여곳 압수수색\n",
      "http://www.naeil.com/news_view/?id_art=442270\n",
      "\n",
      "\n"
     ]
    }
   ],
   "source": [
    "print(news)"
   ]
  },
  {
   "cell_type": "code",
   "execution_count": 22,
   "id": "d2ea2908",
   "metadata": {},
   "outputs": [
    {
     "data": {
      "text/plain": [
       "32"
      ]
     },
     "execution_count": 22,
     "metadata": {},
     "output_type": "execute_result"
    }
   ],
   "source": [
    "len(clean_html(result_items[0]['title']))"
   ]
  },
  {
   "cell_type": "code",
   "execution_count": 23,
   "id": "5ffe9a74",
   "metadata": {},
   "outputs": [
    {
     "data": {
      "text/plain": [
       "61"
      ]
     },
     "execution_count": 23,
     "metadata": {},
     "output_type": "execute_result"
    }
   ],
   "source": [
    "len(clean_html(result_items[0]['link']))"
   ]
  },
  {
   "cell_type": "code",
   "execution_count": null,
   "id": "4d14cc76",
   "metadata": {},
   "outputs": [],
   "source": []
  },
  {
   "cell_type": "code",
   "execution_count": null,
   "id": "4e10e159",
   "metadata": {},
   "outputs": [],
   "source": []
  },
  {
   "cell_type": "code",
   "execution_count": 24,
   "id": "5bc7dd4a",
   "metadata": {},
   "outputs": [
    {
     "name": "stdout",
     "output_type": "stream",
     "text": [
      "('2022-11-18 20:59:00', '퇴근길 이어 출근길, 연이틀 멈춰선 신림선...시민만 불편', 'https://n.news.naver.com/mnews/article/052/0001815549?sid=102')\n",
      "<class 'tuple'>\n",
      "('2022-11-18 20:58:00', '만석 또 만석, 출근길 ‘발동동’…“증차 먼저해야”', 'https://n.news.naver.com/mnews/article/032/0003187245?sid=102')\n",
      "<class 'tuple'>\n",
      "('2022-11-18 20:36:00', '경기도 광역버스 오늘부터 ‘입석 금지’…이용객들은 ‘출·퇴근 걱정’', 'http://www.kukinews.com/newsView/kuk202211180149')\n",
      "<class 'tuple'>\n",
      "('2022-11-18 20:36:00', '인천사랑병원, 사랑의 김장 나눔 동참 外', 'http://www.newsmp.com/news/articleView.html?idxno=228164')\n",
      "<class 'tuple'>\n",
      "('2022-11-18 20:27:00', '안전사고 우려 입석 중단 첫날 표정‥버스 늘려달라', 'https://n.news.naver.com/mnews/article/214/0001236190?sid=102')\n",
      "<class 'tuple'>\n",
      "('2022-11-18 20:26:00', '어제 멈춘 신림선, 오늘 오전 또 운행중단…45분만에 재개', 'http://www.polinews.co.kr/news/article.html?no=517626')\n",
      "<class 'tuple'>\n",
      "('2022-11-18 20:17:00', '[여적] 경전철 신림선 고장', 'https://n.news.naver.com/mnews/article/032/0003187231?sid=110')\n",
      "<class 'tuple'>\n",
      "('2022-11-18 18:40:00', '퇴근길 이어 출근길, 연이틀 멈춰선 신림선...시민만 불편', 'https://n.news.naver.com/mnews/article/052/0001815523?sid=102')\n",
      "<class 'tuple'>\n",
      "('2022-11-18 18:28:00', '금천소방서, 2022년 재난대비 금천구 긴급구조 종합훈련', 'http://fpn119.co.kr/187140')\n",
      "<class 'tuple'>\n",
      "('2022-11-18 17:51:00', '신림선, 퇴근길에 이어 출근길까지 운행 중단···시민 “불편·불안”호소', 'https://n.news.naver.com/mnews/article/020/0003463141?sid=102')\n",
      "<class 'tuple'>\n",
      "('2022-11-18 17:42:00', '신림선 고장에 운행중단…전날엔 퇴근, 오늘은 출근길 (종합)', 'https://n.news.naver.com/mnews/article/081/0003318288?sid=102')\n",
      "<class 'tuple'>\n",
      "('2022-11-18 17:32:00', '재난·위기관리 목적은 모두가 함께 행복한 세상', 'https://www.cctoday.co.kr/news/articleView.html?idxno=2170577')\n",
      "<class 'tuple'>\n",
      "('2022-11-18 17:28:00', 'MZ 세대의 사회문화 답사기: 세월호부터 10.29 참사까지', 'http://www.ddanzi.com/756673169')\n",
      "<class 'tuple'>\n",
      "('2022-11-18 16:52:00', '“인파 밀집 대비 2층 버스 도입...국가안전시스템 뿌리부터 바꾼다', 'https://n.news.naver.com/mnews/article/025/0003239556?sid=102')\n",
      "<class 'tuple'>\n",
      "('2022-11-18 16:50:00', '[노컷한컷]수능 치러지는 동안…참사 후폭풍에 코인시장은 위기', 'https://n.news.naver.com/mnews/article/079/0003708698?sid=102')\n",
      "<class 'tuple'>\n",
      "('2022-11-18 16:44:00', '[병원계 소식] 11월 18일', 'http://www.doctorstimes.com/news/articleView.html?idxno=220847')\n",
      "<class 'tuple'>\n",
      "('2022-11-18 16:28:00', '실제 상황처럼…긴박감 속 지하철 화재사고 대피훈련', 'https://n.news.naver.com/mnews/article/003/0011545200?sid=102')\n",
      "<class 'tuple'>\n",
      "('2022-11-18 16:22:00', '어제는 퇴근길, 오늘은 출근길…신림선 또 운행중단(종합2보)', 'https://n.news.naver.com/mnews/article/001/0013586026?sid=102')\n",
      "<class 'tuple'>\n",
      "('2022-11-18 15:52:00', '“안전 우선! 줄을 서시오” 참사 후 달라진 대한민국', 'http://www.kukinews.com/newsView/kuk202211180108')\n",
      "<class 'tuple'>\n",
      "('2022-11-18 15:26:00', '경기도 입석버스 금지…최소 연말까진 불편 겪을 듯', 'https://n.news.naver.com/mnews/article/015/0004776611?sid=102')\n",
      "<class 'tuple'>\n",
      "('2022-11-18 15:16:00', '30일 총파업 앞둔 서울교통공사 노조 감원 철회해야', 'https://n.news.naver.com/mnews/article/003/0011544967?sid=102')\n",
      "<class 'tuple'>\n",
      "('2022-11-18 15:02:00', '경기도 광역버스 입석금지 첫날…승객들 “취지 좋지만 증차를”', 'https://n.news.naver.com/mnews/article/032/0003187183?sid=102')\n",
      "<class 'tuple'>\n",
      "('2022-11-18 14:51:00', '심폐소생술을 배웠습니다', 'https://www.korea.kr/news/reporterView.do?newsId=148908379&call_from=naver_news')\n",
      "<class 'tuple'>\n",
      "('2022-11-18 14:46:00', '[18일 오늘의사건사고] 광주 광산구 비아정류장 인근서 SUV - 보행자 충돌 사...', 'https://idsn.co.kr/news/view/1065589733200083')\n",
      "<class 'tuple'>\n",
      "('2022-11-18 14:14:00', '가천대 길병원 재난의료지원팀 재난현장 구급대응 훈련 실시', 'https://www.viva100.com/main/view.php?key=20221118010005585')\n",
      "<class 'tuple'>\n",
      "('2022-11-18 14:11:00', '이태원 영상 350개 분석한 WP가 주목한 시간과 장소 [이태원 압사 참사]', 'https://n.news.naver.com/mnews/article/047/0002373283?sid=102')\n",
      "<class 'tuple'>\n",
      "('2022-11-18 13:54:00', '서울교통공사노조, 인력감축 중단 촉구... 30일 총파업 경고', 'https://idsn.co.kr/news/view/1065588590023198')\n",
      "<class 'tuple'>\n",
      "('2022-11-18 13:42:00', '가천대 길병원 재난의료지원팀, 재난현장 구급대응 훈련 실시', 'http://www.shinailbo.co.kr/news/articleView.html?idxno=1625127')\n",
      "<class 'tuple'>\n",
      "('2022-11-18 13:13:00', '‘남은 좌석’ 전광판 보며 발동동… “퇴근이 더 걱정”', 'https://n.news.naver.com/mnews/article/021/0002542138?sid=102')\n",
      "<class 'tuple'>\n",
      "('2022-11-18 12:36:00', '뒤숭숭한 서울시 … 10여곳 압수수색', 'http://www.naeil.com/news_view/?id_art=442270')\n",
      "<class 'tuple'>\n"
     ]
    }
   ],
   "source": [
    "for i in result_items:\n",
    "    pDate = datetime.datetime.strptime(i['pubDate'][5:-6], '%d %b %Y %H:%M:%S')\n",
    "    pDate = pDate.strftime('%Y-%m-%d %H:%M:%S')\n",
    "    title = clean_html(i['title'])\n",
    "    link = i['link']\n",
    "    \n",
    "    insertdata = (pDate, title, link)\n",
    "    print(insertdata)\n",
    "    print(type(insertdata))"
   ]
  }
 ],
 "metadata": {
  "kernelspec": {
   "display_name": "Python 3 (ipykernel)",
   "language": "python",
   "name": "python3"
  },
  "language_info": {
   "codemirror_mode": {
    "name": "ipython",
    "version": 3
   },
   "file_extension": ".py",
   "mimetype": "text/x-python",
   "name": "python",
   "nbconvert_exporter": "python",
   "pygments_lexer": "ipython3",
   "version": "3.10.7"
  }
 },
 "nbformat": 4,
 "nbformat_minor": 5
}
